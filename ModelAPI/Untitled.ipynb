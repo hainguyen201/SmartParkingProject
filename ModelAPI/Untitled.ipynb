{
 "cells": [
  {
   "cell_type": "code",
   "execution_count": 3,
   "id": "eeea9c5d",
   "metadata": {},
   "outputs": [],
   "source": [
    "import os\n",
    "import cv2\n",
    "import matplotlib.pyplot as plt"
   ]
  },
  {
   "cell_type": "code",
   "execution_count": 7,
   "id": "aa9b9962",
   "metadata": {},
   "outputs": [
    {
     "name": "stdout",
     "output_type": "stream",
     "text": [
      "['10_112.jpg', '11_96.jpg', '12_82.jpg', '13_66.jpg', '15_29.jpg', '16_45.jpg', '17_14.jpg', '9_126.jpg']\n",
      "(25, 13, 3)\n"
     ]
    },
    {
     "data": {
      "image/png": "[encoded data removed]",
      "text/plain": [
       "<Figure size 432x288 with 1 Axes>"
      ]
     },
     "metadata": {
      "needs_background": "light"
     },
     "output_type": "display_data"
    }
   ],
   "source": [
    "origin_path = 'predict/character/'\n",
    "image_paths = os.listdir(origin_path)\n",
    "print(image_paths)\n",
    "img = cv2.imread(origin_path+image_paths[0])\n",
    "print(img.shape)\n",
    "plt.imshow(img)\n",
    "plt.show()"
   ]
  },
  {
   "cell_type": "code",
   "execution_count": 18,
   "id": "f28899b8",
   "metadata": {},
   "outputs": [
    {
     "name": "stdout",
     "output_type": "stream",
     "text": [
      "['9_126.jpg', '10_112.jpg', '11_96.jpg', '12_82.jpg', '13_66.jpg', '15_29.jpg', '16_45.jpg', '17_14.jpg']\n"
     ]
    }
   ],
   "source": [
    "image_paths.sort(key=lambda x: int(x[0:-4].split('_')[0]))\n",
    "print(image_paths)"
   ]
  },
  {
   "cell_type": "code",
   "execution_count": 14,
   "id": "a8bbc769",
   "metadata": {},
   "outputs": [
    {
     "name": "stdout",
     "output_type": "stream",
     "text": [
      "112\n"
     ]
    }
   ],
   "source": [
    "d=image_paths[0][0:-4].split('_')[0]  \n",
    "print(d)"
   ]
  },
  {
   "cell_type": "code",
   "execution_count": 21,
   "id": "fff4701d",
   "metadata": {},
   "outputs": [
    {
     "name": "stdout",
     "output_type": "stream",
     "text": [
      "['predict/character/9_126.jpg', 'predict/character/10_112.jpg', 'predict/character/11_96.jpg', 'predict/character/12_82.jpg', 'predict/character/13_66.jpg', 'predict/character/15_29.jpg', 'predict/character/16_45.jpg', 'predict/character/17_14.jpg']\n"
     ]
    }
   ],
   "source": [
    "print([origin_path + path for path in image_paths])"
   ]
  },
  {
   "cell_type": "code",
   "execution_count": null,
   "id": "9e09cd48",
   "metadata": {},
   "outputs": [],
   "source": []
  }
 ],
 "metadata": {
  "kernelspec": {
   "display_name": "Python 3",
   "language": "python",
   "name": "python3"
  },
  "language_info": {
   "codemirror_mode": {
    "name": "ipython",
    "version": 3
   },
   "file_extension": ".py",
   "mimetype": "text/x-python",
   "name": "python",
   "nbconvert_exporter": "python",
   "pygments_lexer": "ipython3",
   "version": "3.8.8"
  }
 },
 "nbformat": 4,
 "nbformat_minor": 5
}
